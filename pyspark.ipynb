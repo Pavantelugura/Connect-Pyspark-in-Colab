{
  "nbformat": 4,
  "nbformat_minor": 0,
  "metadata": {
    "colab": {
      "provenance": [],
      "authorship_tag": "ABX9TyMlWzglNUvvSqlRKIF0uRlv",
      "include_colab_link": true
    },
    "kernelspec": {
      "name": "python3",
      "display_name": "Python 3"
    },
    "language_info": {
      "name": "python"
    }
  },
  "cells": [
    {
      "cell_type": "markdown",
      "metadata": {
        "id": "view-in-github",
        "colab_type": "text"
      },
      "source": [
        "<a href=\"https://colab.research.google.com/github/Pavantelugura/Connect-Pyspark-in-Colab/blob/main/pyspark.ipynb\" target=\"_parent\"><img src=\"https://colab.research.google.com/assets/colab-badge.svg\" alt=\"Open In Colab\"/></a>"
      ]
    },
    {
      "cell_type": "code",
      "execution_count": null,
      "metadata": {
        "id": "7Ez7Ong4BteE"
      },
      "outputs": [],
      "source": [
        "# Step 1. Mounting your Google Drive"
      ]
    },
    {
      "cell_type": "code",
      "source": [
        "from google.colab import drive\n",
        "drive.mount('/content/drive')"
      ],
      "metadata": {
        "colab": {
          "base_uri": "https://localhost:8080/"
        },
        "id": "U6O3HknFB6yy",
        "outputId": "22b547d0-f1ec-46a7-fa86-6f3f56e92d8b"
      },
      "execution_count": null,
      "outputs": [
        {
          "output_type": "stream",
          "name": "stdout",
          "text": [
            "Mounted at /content/drive\n"
          ]
        }
      ]
    },
    {
      "cell_type": "code",
      "source": [
        "# Installing Java\n",
        "\n",
        "!apt-get install openjdk-8-jdk-headless -qq > /dev/null"
      ],
      "metadata": {
        "id": "hE70cpqMCDS7"
      },
      "execution_count": null,
      "outputs": []
    },
    {
      "cell_type": "code",
      "source": [
        "# Installing Apache Spark\n",
        "\n",
        "!wget -q https://dlcdn.apache.org/spark/spark-3.3.2/spark-3.3.2-bin-hadoop3.tgz"
      ],
      "metadata": {
        "id": "vutot9CeCTyH"
      },
      "execution_count": null,
      "outputs": []
    },
    {
      "cell_type": "code",
      "source": [
        "!ls"
      ],
      "metadata": {
        "colab": {
          "base_uri": "https://localhost:8080/"
        },
        "id": "SyLLbdwXCtsm",
        "outputId": "ea962b81-c328-4e25-de57-a1fab72f7025"
      },
      "execution_count": null,
      "outputs": [
        {
          "output_type": "stream",
          "name": "stdout",
          "text": [
            "drive  sample_data  spark-3.3.2-bin-hadoop3.tgz\n"
          ]
        }
      ]
    },
    {
      "cell_type": "code",
      "source": [
        "!tar xf spark-3.3.2-bin-hadoop3.tgz"
      ],
      "metadata": {
        "id": "0moAU5BQCwRl"
      },
      "execution_count": null,
      "outputs": []
    },
    {
      "cell_type": "code",
      "source": [
        "!pip install -q findspark"
      ],
      "metadata": {
        "id": "XgyV6HWHDawZ"
      },
      "execution_count": null,
      "outputs": []
    },
    {
      "cell_type": "code",
      "source": [
        "import os\n",
        "os.environ['JAVA_HOME'] = '/usr/lib/jvm/java-8-openjdk-arm64'\n",
        "os.environ['SPARK_HOME'] = '/content/spark-3.3.2-bin-hadoop3'"
      ],
      "metadata": {
        "id": "fJlWxYBsDfEh"
      },
      "execution_count": null,
      "outputs": []
    },
    {
      "cell_type": "code",
      "source": [
        "import findspark\n",
        "findspark.init()"
      ],
      "metadata": {
        "id": "U9eYLrShFrf-"
      },
      "execution_count": null,
      "outputs": []
    },
    {
      "cell_type": "code",
      "source": [
        "\n",
        "from pyspark.sql import SparkSession\n",
        "spark = SparkSession.builder\\\n",
        "        .master('local')\\\n",
        "        .appName('Colab')\\\n",
        "        .config('spark.ui.port', '4050')\\\n",
        "        .getOrCreate()\n"
      ],
      "metadata": {
        "id": "HrZl0kCzFyIj"
      },
      "execution_count": null,
      "outputs": []
    },
    {
      "cell_type": "code",
      "source": [
        "spark"
      ],
      "metadata": {
        "colab": {
          "base_uri": "https://localhost:8080/",
          "height": 221
        },
        "id": "fbKddlSnIcIN",
        "outputId": "7b00bd6c-c6af-4735-e168-c67e634fdb55"
      },
      "execution_count": null,
      "outputs": [
        {
          "output_type": "execute_result",
          "data": {
            "text/plain": [
              "<pyspark.sql.session.SparkSession at 0x7f75c1d83700>"
            ],
            "text/html": [
              "\n",
              "            <div>\n",
              "                <p><b>SparkSession - in-memory</b></p>\n",
              "                \n",
              "        <div>\n",
              "            <p><b>SparkContext</b></p>\n",
              "\n",
              "            <p><a href=\"http://a97344f8e99e:4050\">Spark UI</a></p>\n",
              "\n",
              "            <dl>\n",
              "              <dt>Version</dt>\n",
              "                <dd><code>v3.3.2</code></dd>\n",
              "              <dt>Master</dt>\n",
              "                <dd><code>local</code></dd>\n",
              "              <dt>AppName</dt>\n",
              "                <dd><code>Colab</code></dd>\n",
              "            </dl>\n",
              "        </div>\n",
              "        \n",
              "            </div>\n",
              "        "
            ]
          },
          "metadata": {},
          "execution_count": 2
        }
      ]
    },
    {
      "cell_type": "code",
      "source": [
        "# Merge two DataFrames in PySpark\n",
        "\n",
        "simpleData = [('Pavan', 'Data Engineer', 'Bangalore', 45000, 27, 5000), \\\n",
        "              ('Ullas', 'SDE', 'Bangalore', 30000, 27, 5000), \\\n",
        "              ('Nitin', 'SDE', 'Hyderabad', 30000, 30, 10000) \\\n",
        "              ]\n",
        "columns = ['Employee_Name', 'Department', 'City', 'Salary', 'Age', 'Bonus']\n",
        "df = spark.createDataFrame(data = simpleData, schema = columns)\n",
        "df.printSchema()\n",
        "df.show(truncate=False)"
      ],
      "metadata": {
        "colab": {
          "base_uri": "https://localhost:8080/"
        },
        "id": "Nk31pElAKAjK",
        "outputId": "34f47b8c-0322-44bd-e3a5-f871ab1c6fd1"
      },
      "execution_count": null,
      "outputs": [
        {
          "output_type": "stream",
          "name": "stdout",
          "text": [
            "root\n",
            " |-- Employee_Name: string (nullable = true)\n",
            " |-- Department: string (nullable = true)\n",
            " |-- City: string (nullable = true)\n",
            " |-- Salary: long (nullable = true)\n",
            " |-- Age: long (nullable = true)\n",
            " |-- Bonus: long (nullable = true)\n",
            "\n",
            "+-------------+-------------+---------+------+---+-----+\n",
            "|Employee_Name|Department   |City     |Salary|Age|Bonus|\n",
            "+-------------+-------------+---------+------+---+-----+\n",
            "|Pavan        |Data Engineer|Bangalore|45000 |27 |5000 |\n",
            "|Ullas        |SDE          |Bangalore|30000 |27 |5000 |\n",
            "|Nitin        |SDE          |Hyderabad|30000 |30 |10000|\n",
            "+-------------+-------------+---------+------+---+-----+\n",
            "\n"
          ]
        }
      ]
    },
    {
      "cell_type": "code",
      "source": [
        "simpleData2 = [('Jeevan', 'Senior SE', 'Chitradurga', 40000, 25, 4000), \\\n",
        "               ('Ummar', 'SDE', 'Hyderabad', 35000, 24, 3000), \\\n",
        "               ('Surakshith', 'SDE', 'Cheanni', 40000, 24, 3000)\n",
        "               ]\n",
        "columns2 = columns\n",
        "df2 = spark.createDataFrame(data = simpleData2, schema = columns2)\n",
        "df2.printSchema()\n",
        "df2.show(truncate=False)"
      ],
      "metadata": {
        "colab": {
          "base_uri": "https://localhost:8080/"
        },
        "id": "uVacVBLSLl0y",
        "outputId": "73e5ec31-5713-4f11-f32e-cee99b08d1da"
      },
      "execution_count": null,
      "outputs": [
        {
          "output_type": "stream",
          "name": "stdout",
          "text": [
            "root\n",
            " |-- Employee_Name: string (nullable = true)\n",
            " |-- Department: string (nullable = true)\n",
            " |-- City: string (nullable = true)\n",
            " |-- Salary: long (nullable = true)\n",
            " |-- Age: long (nullable = true)\n",
            " |-- Bonus: long (nullable = true)\n",
            "\n",
            "+-------------+----------+-----------+------+---+-----+\n",
            "|Employee_Name|Department|City       |Salary|Age|Bonus|\n",
            "+-------------+----------+-----------+------+---+-----+\n",
            "|Jeevan       |Senior SE |Chitradurga|40000 |25 |4000 |\n",
            "|Ummar        |SDE       |Hyderabad  |35000 |24 |3000 |\n",
            "|Surakshith   |SDE       |Cheanni    |40000 |24 |3000 |\n",
            "+-------------+----------+-----------+------+---+-----+\n",
            "\n"
          ]
        }
      ]
    },
    {
      "cell_type": "code",
      "source": [
        "unionDF = df.union(df2)\n",
        "unionDF.show(truncate=False)"
      ],
      "metadata": {
        "colab": {
          "base_uri": "https://localhost:8080/"
        },
        "id": "OdBUeShWM1Rv",
        "outputId": "c30cc7a8-978e-4bca-dc63-1d31f8b0f59b"
      },
      "execution_count": null,
      "outputs": [
        {
          "output_type": "stream",
          "name": "stdout",
          "text": [
            "+-------------+-------------+-----------+------+---+-----+\n",
            "|Employee_Name|Department   |City       |Salary|Age|Bonus|\n",
            "+-------------+-------------+-----------+------+---+-----+\n",
            "|Pavan        |Data Engineer|Bangalore  |45000 |27 |5000 |\n",
            "|Ullas        |SDE          |Bangalore  |30000 |27 |5000 |\n",
            "|Nitin        |SDE          |Hyderabad  |30000 |30 |10000|\n",
            "|Jeevan       |Senior SE    |Chitradurga|40000 |25 |4000 |\n",
            "|Ummar        |SDE          |Hyderabad  |35000 |24 |3000 |\n",
            "|Surakshith   |SDE          |Cheanni    |40000 |24 |3000 |\n",
            "+-------------+-------------+-----------+------+---+-----+\n",
            "\n"
          ]
        }
      ]
    },
    {
      "cell_type": "code",
      "source": [
        "!wget https://github.com/Pavantelugura/Connect-Pyspark-in-Colab/blob/main/employees.csv\n"
      ],
      "metadata": {
        "colab": {
          "base_uri": "https://localhost:8080/"
        },
        "id": "qiAvj63LRxVV",
        "outputId": "c944faa9-c102-4c5d-b8cb-38979d62a64f"
      },
      "execution_count": null,
      "outputs": [
        {
          "output_type": "stream",
          "name": "stdout",
          "text": [
            "--2023-03-30 07:08:12--  https://github.com/Pavantelugura/Connect-Pyspark-in-Colab/blob/main/employees.csv\n",
            "Resolving github.com (github.com)... 140.82.112.4\n",
            "Connecting to github.com (github.com)|140.82.112.4|:443... connected.\n",
            "HTTP request sent, awaiting response... 200 OK\n",
            "Length: unspecified [text/html]\n",
            "Saving to: ‘employees.csv’\n",
            "\n",
            "employees.csv           [ <=>                ] 164.97K  --.-KB/s    in 0.04s   \n",
            "\n",
            "2023-03-30 07:08:12 (4.05 MB/s) - ‘employees.csv’ saved [168927]\n",
            "\n"
          ]
        }
      ]
    },
    {
      "cell_type": "code",
      "source": [
        "!ls"
      ],
      "metadata": {
        "colab": {
          "base_uri": "https://localhost:8080/"
        },
        "id": "EDUP6Px8UJhj",
        "outputId": "b1160b26-b92e-4ac1-8c4d-b468e670b021"
      },
      "execution_count": null,
      "outputs": [
        {
          "output_type": "stream",
          "name": "stdout",
          "text": [
            "drive\t       sample_data\t\tspark-3.3.2-bin-hadoop3.tgz\n",
            "employees.csv  spark-3.3.2-bin-hadoop3\n"
          ]
        }
      ]
    },
    {
      "cell_type": "code",
      "source": [
        "df = spark.read.csv('employees.csv', header=True, inferSchema=True)"
      ],
      "metadata": {
        "id": "eBZM_5r2UPwv"
      },
      "execution_count": 24,
      "outputs": []
    },
    {
      "cell_type": "code",
      "source": [
        "df.printSchema()\n",
        "df.show()"
      ],
      "metadata": {
        "colab": {
          "base_uri": "https://localhost:8080/"
        },
        "id": "S4PaabqNWc6L",
        "outputId": "95c319cf-e262-45c3-9951-11db79ab6a93"
      },
      "execution_count": 25,
      "outputs": [
        {
          "output_type": "stream",
          "name": "stdout",
          "text": [
            "root\n",
            " |-- EMPLOYEE_ID: integer (nullable = true)\n",
            " |-- FIRST_NAME: string (nullable = true)\n",
            " |-- LAST_NAME: string (nullable = true)\n",
            " |-- EMAIL: string (nullable = true)\n",
            " |-- PHONE_NUMBER: string (nullable = true)\n",
            " |-- HIRE_DATE: string (nullable = true)\n",
            " |-- JOB_ID: string (nullable = true)\n",
            " |-- SALARY: integer (nullable = true)\n",
            " |-- COMMISSION_PCT: string (nullable = true)\n",
            " |-- MANAGER_ID: string (nullable = true)\n",
            " |-- DEPARTMENT_ID: integer (nullable = true)\n",
            "\n",
            "+-----------+----------+---------+--------+------------+---------+----------+------+--------------+----------+-------------+\n",
            "|EMPLOYEE_ID|FIRST_NAME|LAST_NAME|   EMAIL|PHONE_NUMBER|HIRE_DATE|    JOB_ID|SALARY|COMMISSION_PCT|MANAGER_ID|DEPARTMENT_ID|\n",
            "+-----------+----------+---------+--------+------------+---------+----------+------+--------------+----------+-------------+\n",
            "|        198|    Donald| OConnell|DOCONNEL|650.507.9833|21-JUN-07|  SH_CLERK|  2600|            - |       124|           50|\n",
            "|        199|   Douglas|    Grant|  DGRANT|650.507.9844|13-JAN-08|  SH_CLERK|  2600|            - |       124|           50|\n",
            "|        200|  Jennifer|   Whalen| JWHALEN|515.123.4444|17-SEP-03|   AD_ASST|  4400|            - |       101|           10|\n",
            "|        201|   Michael|Hartstein|MHARTSTE|515.123.5555|17-FEB-04|    MK_MAN| 13000|            - |       100|           20|\n",
            "|        202|       Pat|      Fay|    PFAY|603.123.6666|17-AUG-05|    MK_REP|  6000|            - |       201|           20|\n",
            "|        203|     Susan|   Mavris| SMAVRIS|515.123.7777|07-JUN-02|    HR_REP|  6500|            - |       101|           40|\n",
            "|        204|   Hermann|     Baer|   HBAER|515.123.8888|07-JUN-02|    PR_REP| 10000|            - |       101|           70|\n",
            "|        205|   Shelley|  Higgins|SHIGGINS|515.123.8080|07-JUN-02|    AC_MGR| 12008|            - |       101|          110|\n",
            "|        206|   William|    Gietz|  WGIETZ|515.123.8181|07-JUN-02|AC_ACCOUNT|  8300|            - |       205|          110|\n",
            "|        100|    Steven|     King|   SKING|515.123.4567|17-JUN-03|   AD_PRES| 24000|            - |        - |           90|\n",
            "|        101|     Neena|  Kochhar|NKOCHHAR|515.123.4568|21-SEP-05|     AD_VP| 17000|            - |       100|           90|\n",
            "|        102|       Lex|  De Haan| LDEHAAN|515.123.4569|13-JAN-01|     AD_VP| 17000|            - |       100|           90|\n",
            "|        103| Alexander|   Hunold| AHUNOLD|590.423.4567|03-JAN-06|   IT_PROG|  9000|            - |       102|           60|\n",
            "|        104|     Bruce|    Ernst|  BERNST|590.423.4568|21-MAY-07|   IT_PROG|  6000|            - |       103|           60|\n",
            "|        105|     David|   Austin| DAUSTIN|590.423.4569|25-JUN-05|   IT_PROG|  4800|            - |       103|           60|\n",
            "|        106|     Valli|Pataballa|VPATABAL|590.423.4560|05-FEB-06|   IT_PROG|  4800|            - |       103|           60|\n",
            "|        107|     Diana|  Lorentz|DLORENTZ|590.423.5567|07-FEB-07|   IT_PROG|  4200|            - |       103|           60|\n",
            "|        108|     Nancy|Greenberg|NGREENBE|515.124.4569|17-AUG-02|    FI_MGR| 12008|            - |       101|          100|\n",
            "|        109|    Daniel|   Faviet| DFAVIET|515.124.4169|16-AUG-02|FI_ACCOUNT|  9000|            - |       108|          100|\n",
            "|        110|      John|     Chen|   JCHEN|515.124.4269|28-SEP-05|FI_ACCOUNT|  8200|            - |       108|          100|\n",
            "+-----------+----------+---------+--------+------------+---------+----------+------+--------------+----------+-------------+\n",
            "only showing top 20 rows\n",
            "\n"
          ]
        }
      ]
    },
    {
      "cell_type": "code",
      "source": [
        "df.select('*').show()"
      ],
      "metadata": {
        "colab": {
          "base_uri": "https://localhost:8080/"
        },
        "id": "7IK3aKdKa7ad",
        "outputId": "f8e01ce2-a15a-4e0b-880d-5f40e94d2461"
      },
      "execution_count": 26,
      "outputs": [
        {
          "output_type": "stream",
          "name": "stdout",
          "text": [
            "+-----------+----------+---------+--------+------------+---------+----------+------+--------------+----------+-------------+\n",
            "|EMPLOYEE_ID|FIRST_NAME|LAST_NAME|   EMAIL|PHONE_NUMBER|HIRE_DATE|    JOB_ID|SALARY|COMMISSION_PCT|MANAGER_ID|DEPARTMENT_ID|\n",
            "+-----------+----------+---------+--------+------------+---------+----------+------+--------------+----------+-------------+\n",
            "|        198|    Donald| OConnell|DOCONNEL|650.507.9833|21-JUN-07|  SH_CLERK|  2600|            - |       124|           50|\n",
            "|        199|   Douglas|    Grant|  DGRANT|650.507.9844|13-JAN-08|  SH_CLERK|  2600|            - |       124|           50|\n",
            "|        200|  Jennifer|   Whalen| JWHALEN|515.123.4444|17-SEP-03|   AD_ASST|  4400|            - |       101|           10|\n",
            "|        201|   Michael|Hartstein|MHARTSTE|515.123.5555|17-FEB-04|    MK_MAN| 13000|            - |       100|           20|\n",
            "|        202|       Pat|      Fay|    PFAY|603.123.6666|17-AUG-05|    MK_REP|  6000|            - |       201|           20|\n",
            "|        203|     Susan|   Mavris| SMAVRIS|515.123.7777|07-JUN-02|    HR_REP|  6500|            - |       101|           40|\n",
            "|        204|   Hermann|     Baer|   HBAER|515.123.8888|07-JUN-02|    PR_REP| 10000|            - |       101|           70|\n",
            "|        205|   Shelley|  Higgins|SHIGGINS|515.123.8080|07-JUN-02|    AC_MGR| 12008|            - |       101|          110|\n",
            "|        206|   William|    Gietz|  WGIETZ|515.123.8181|07-JUN-02|AC_ACCOUNT|  8300|            - |       205|          110|\n",
            "|        100|    Steven|     King|   SKING|515.123.4567|17-JUN-03|   AD_PRES| 24000|            - |        - |           90|\n",
            "|        101|     Neena|  Kochhar|NKOCHHAR|515.123.4568|21-SEP-05|     AD_VP| 17000|            - |       100|           90|\n",
            "|        102|       Lex|  De Haan| LDEHAAN|515.123.4569|13-JAN-01|     AD_VP| 17000|            - |       100|           90|\n",
            "|        103| Alexander|   Hunold| AHUNOLD|590.423.4567|03-JAN-06|   IT_PROG|  9000|            - |       102|           60|\n",
            "|        104|     Bruce|    Ernst|  BERNST|590.423.4568|21-MAY-07|   IT_PROG|  6000|            - |       103|           60|\n",
            "|        105|     David|   Austin| DAUSTIN|590.423.4569|25-JUN-05|   IT_PROG|  4800|            - |       103|           60|\n",
            "|        106|     Valli|Pataballa|VPATABAL|590.423.4560|05-FEB-06|   IT_PROG|  4800|            - |       103|           60|\n",
            "|        107|     Diana|  Lorentz|DLORENTZ|590.423.5567|07-FEB-07|   IT_PROG|  4200|            - |       103|           60|\n",
            "|        108|     Nancy|Greenberg|NGREENBE|515.124.4569|17-AUG-02|    FI_MGR| 12008|            - |       101|          100|\n",
            "|        109|    Daniel|   Faviet| DFAVIET|515.124.4169|16-AUG-02|FI_ACCOUNT|  9000|            - |       108|          100|\n",
            "|        110|      John|     Chen|   JCHEN|515.124.4269|28-SEP-05|FI_ACCOUNT|  8200|            - |       108|          100|\n",
            "+-----------+----------+---------+--------+------------+---------+----------+------+--------------+----------+-------------+\n",
            "only showing top 20 rows\n",
            "\n"
          ]
        }
      ]
    },
    {
      "cell_type": "code",
      "source": [
        "df.select('EMPLOYEE_ID', 'LAST_NAME').show()"
      ],
      "metadata": {
        "colab": {
          "base_uri": "https://localhost:8080/"
        },
        "id": "BjBaBOb1dZM6",
        "outputId": "b192695a-012c-46bf-b8bc-e5269d178808"
      },
      "execution_count": 27,
      "outputs": [
        {
          "output_type": "stream",
          "name": "stdout",
          "text": [
            "+-----------+---------+\n",
            "|EMPLOYEE_ID|LAST_NAME|\n",
            "+-----------+---------+\n",
            "|        198| OConnell|\n",
            "|        199|    Grant|\n",
            "|        200|   Whalen|\n",
            "|        201|Hartstein|\n",
            "|        202|      Fay|\n",
            "|        203|   Mavris|\n",
            "|        204|     Baer|\n",
            "|        205|  Higgins|\n",
            "|        206|    Gietz|\n",
            "|        100|     King|\n",
            "|        101|  Kochhar|\n",
            "|        102|  De Haan|\n",
            "|        103|   Hunold|\n",
            "|        104|    Ernst|\n",
            "|        105|   Austin|\n",
            "|        106|Pataballa|\n",
            "|        107|  Lorentz|\n",
            "|        108|Greenberg|\n",
            "|        109|   Faviet|\n",
            "|        110|     Chen|\n",
            "+-----------+---------+\n",
            "only showing top 20 rows\n",
            "\n"
          ]
        }
      ]
    },
    {
      "cell_type": "code",
      "source": [
        "from pyspark.sql.functions import col"
      ],
      "metadata": {
        "id": "LlbCskH5d8GO"
      },
      "execution_count": 28,
      "outputs": []
    },
    {
      "cell_type": "code",
      "source": [
        "df.select(col('EMPLOYEE_ID').alias('EMP_ID'), col('FIRST_NAME').alias('F_NAME')).show()"
      ],
      "metadata": {
        "colab": {
          "base_uri": "https://localhost:8080/"
        },
        "id": "y_sb86DHeLTT",
        "outputId": "99a034c0-8920-4e36-a44a-4007fe9acfa5"
      },
      "execution_count": 29,
      "outputs": [
        {
          "output_type": "stream",
          "name": "stdout",
          "text": [
            "+------+---------+\n",
            "|EMP_ID|   F_NAME|\n",
            "+------+---------+\n",
            "|   198|   Donald|\n",
            "|   199|  Douglas|\n",
            "|   200| Jennifer|\n",
            "|   201|  Michael|\n",
            "|   202|      Pat|\n",
            "|   203|    Susan|\n",
            "|   204|  Hermann|\n",
            "|   205|  Shelley|\n",
            "|   206|  William|\n",
            "|   100|   Steven|\n",
            "|   101|    Neena|\n",
            "|   102|      Lex|\n",
            "|   103|Alexander|\n",
            "|   104|    Bruce|\n",
            "|   105|    David|\n",
            "|   106|    Valli|\n",
            "|   107|    Diana|\n",
            "|   108|    Nancy|\n",
            "|   109|   Daniel|\n",
            "|   110|     John|\n",
            "+------+---------+\n",
            "only showing top 20 rows\n",
            "\n"
          ]
        }
      ]
    },
    {
      "cell_type": "code",
      "source": [
        "df.select('EMPLOYEE_ID', 'FIRST_NAME', 'SALARY').withColumn('NEW_SALARY', col('SALARY') + 1000).show()"
      ],
      "metadata": {
        "colab": {
          "base_uri": "https://localhost:8080/"
        },
        "id": "K5pRHe4Xeflk",
        "outputId": "2c0ce720-02a4-4548-e566-7db66577f7ef"
      },
      "execution_count": 30,
      "outputs": [
        {
          "output_type": "stream",
          "name": "stdout",
          "text": [
            "+-----------+----------+------+----------+\n",
            "|EMPLOYEE_ID|FIRST_NAME|SALARY|NEW_SALARY|\n",
            "+-----------+----------+------+----------+\n",
            "|        198|    Donald|  2600|      3600|\n",
            "|        199|   Douglas|  2600|      3600|\n",
            "|        200|  Jennifer|  4400|      5400|\n",
            "|        201|   Michael| 13000|     14000|\n",
            "|        202|       Pat|  6000|      7000|\n",
            "|        203|     Susan|  6500|      7500|\n",
            "|        204|   Hermann| 10000|     11000|\n",
            "|        205|   Shelley| 12008|     13008|\n",
            "|        206|   William|  8300|      9300|\n",
            "|        100|    Steven| 24000|     25000|\n",
            "|        101|     Neena| 17000|     18000|\n",
            "|        102|       Lex| 17000|     18000|\n",
            "|        103| Alexander|  9000|     10000|\n",
            "|        104|     Bruce|  6000|      7000|\n",
            "|        105|     David|  4800|      5800|\n",
            "|        106|     Valli|  4800|      5800|\n",
            "|        107|     Diana|  4200|      5200|\n",
            "|        108|     Nancy| 12008|     13008|\n",
            "|        109|    Daniel|  9000|     10000|\n",
            "|        110|      John|  8200|      9200|\n",
            "+-----------+----------+------+----------+\n",
            "only showing top 20 rows\n",
            "\n"
          ]
        }
      ]
    },
    {
      "cell_type": "code",
      "source": [
        " df.withColumn(\"NEW_SALARY\",col(\"SALARY\") + 1000).select(\"EMPLOYEE_ID\",\"FIRST_NAME\",\"NEW_SALARY\").show()"
      ],
      "metadata": {
        "colab": {
          "base_uri": "https://localhost:8080/"
        },
        "id": "pgkwCXQvgPx4",
        "outputId": "50dd780c-b022-4b57-c6c8-ef11ec1eaf7b"
      },
      "execution_count": 38,
      "outputs": [
        {
          "output_type": "stream",
          "name": "stdout",
          "text": [
            "+-----------+----------+----------+\n",
            "|EMPLOYEE_ID|FIRST_NAME|NEW_SALARY|\n",
            "+-----------+----------+----------+\n",
            "|        198|    Donald|      3600|\n",
            "|        199|   Douglas|      3600|\n",
            "|        200|  Jennifer|      5400|\n",
            "|        201|   Michael|     14000|\n",
            "|        202|       Pat|      7000|\n",
            "|        203|     Susan|      7500|\n",
            "|        204|   Hermann|     11000|\n",
            "|        205|   Shelley|     13008|\n",
            "|        206|   William|      9300|\n",
            "|        100|    Steven|     25000|\n",
            "|        101|     Neena|     18000|\n",
            "|        102|       Lex|     18000|\n",
            "|        103| Alexander|     10000|\n",
            "|        104|     Bruce|      7000|\n",
            "|        105|     David|      5800|\n",
            "|        106|     Valli|      5800|\n",
            "|        107|     Diana|      5200|\n",
            "|        108|     Nancy|     13008|\n",
            "|        109|    Daniel|     10000|\n",
            "|        110|      John|      9200|\n",
            "+-----------+----------+----------+\n",
            "only showing top 20 rows\n",
            "\n"
          ]
        }
      ]
    },
    {
      "cell_type": "code",
      "source": [],
      "metadata": {
        "id": "WtKrw3aUjLww"
      },
      "execution_count": null,
      "outputs": []
    }
  ]
}