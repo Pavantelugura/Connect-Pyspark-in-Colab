{
  "nbformat": 4,
  "nbformat_minor": 0,
  "metadata": {
    "colab": {
      "provenance": [],
      "authorship_tag": "ABX9TyPtUmzeSryy7vVtLh3x002B",
      "include_colab_link": true
    },
    "kernelspec": {
      "name": "python3",
      "display_name": "Python 3"
    },
    "language_info": {
      "name": "python"
    }
  },
  "cells": [
    {
      "cell_type": "markdown",
      "metadata": {
        "id": "view-in-github",
        "colab_type": "text"
      },
      "source": [
        "<a href=\"https://colab.research.google.com/github/Pavantelugura/Connect-Pyspark-in-Colab/blob/main/pyspark.ipynb\" target=\"_parent\"><img src=\"https://colab.research.google.com/assets/colab-badge.svg\" alt=\"Open In Colab\"/></a>"
      ]
    },
    {
      "cell_type": "code",
      "execution_count": null,
      "metadata": {
        "id": "7Ez7Ong4BteE"
      },
      "outputs": [],
      "source": [
        "# Step 1. Mounting your Google Drive"
      ]
    },
    {
      "cell_type": "code",
      "source": [
        "from google.colab import drive\n",
        "drive.mount('/content/drive')"
      ],
      "metadata": {
        "colab": {
          "base_uri": "https://localhost:8080/"
        },
        "id": "U6O3HknFB6yy",
        "outputId": "22b547d0-f1ec-46a7-fa86-6f3f56e92d8b"
      },
      "execution_count": null,
      "outputs": [
        {
          "output_type": "stream",
          "name": "stdout",
          "text": [
            "Mounted at /content/drive\n"
          ]
        }
      ]
    },
    {
      "cell_type": "code",
      "source": [
        "# Installing Java\n",
        "\n",
        "!apt-get install openjdk-8-jdk-headless -qq > /dev/null"
      ],
      "metadata": {
        "id": "hE70cpqMCDS7"
      },
      "execution_count": null,
      "outputs": []
    },
    {
      "cell_type": "code",
      "source": [
        "# Installing Apache Spark\n",
        "\n",
        "!wget -q https://dlcdn.apache.org/spark/spark-3.3.2/spark-3.3.2-bin-hadoop3.tgz"
      ],
      "metadata": {
        "id": "vutot9CeCTyH"
      },
      "execution_count": null,
      "outputs": []
    },
    {
      "cell_type": "code",
      "source": [
        "!ls"
      ],
      "metadata": {
        "colab": {
          "base_uri": "https://localhost:8080/"
        },
        "id": "SyLLbdwXCtsm",
        "outputId": "ea962b81-c328-4e25-de57-a1fab72f7025"
      },
      "execution_count": null,
      "outputs": [
        {
          "output_type": "stream",
          "name": "stdout",
          "text": [
            "drive  sample_data  spark-3.3.2-bin-hadoop3.tgz\n"
          ]
        }
      ]
    },
    {
      "cell_type": "code",
      "source": [
        "!tar xf spark-3.3.2-bin-hadoop3.tgz"
      ],
      "metadata": {
        "id": "0moAU5BQCwRl"
      },
      "execution_count": null,
      "outputs": []
    },
    {
      "cell_type": "code",
      "source": [
        "!pip install -q findspark"
      ],
      "metadata": {
        "id": "XgyV6HWHDawZ"
      },
      "execution_count": null,
      "outputs": []
    },
    {
      "cell_type": "code",
      "source": [
        "import os\n",
        "os.environ['JAVA_HOME'] = '/usr/lib/jvm/java-8-openjdk-arm64'\n",
        "os.environ['SPARK_HOME'] = '/content/spark-3.3.2-bin-hadoop3'"
      ],
      "metadata": {
        "id": "fJlWxYBsDfEh"
      },
      "execution_count": null,
      "outputs": []
    },
    {
      "cell_type": "code",
      "source": [
        "import findspark\n",
        "findspark.init()"
      ],
      "metadata": {
        "id": "U9eYLrShFrf-"
      },
      "execution_count": null,
      "outputs": []
    },
    {
      "cell_type": "code",
      "source": [
        "\n",
        "from pyspark.sql import SparkSession\n",
        "spark = SparkSession.builder\\\n",
        "        .master('local')\\\n",
        "        .appName('Colab')\\\n",
        "        .config('spark.ui.port', '4050')\\\n",
        "        .getOrCreate()\n"
      ],
      "metadata": {
        "id": "HrZl0kCzFyIj"
      },
      "execution_count": null,
      "outputs": []
    },
    {
      "cell_type": "code",
      "source": [
        "spark"
      ],
      "metadata": {
        "colab": {
          "base_uri": "https://localhost:8080/",
          "height": 221
        },
        "id": "fbKddlSnIcIN",
        "outputId": "7b00bd6c-c6af-4735-e168-c67e634fdb55"
      },
      "execution_count": null,
      "outputs": [
        {
          "output_type": "execute_result",
          "data": {
            "text/plain": [
              "<pyspark.sql.session.SparkSession at 0x7f75c1d83700>"
            ],
            "text/html": [
              "\n",
              "            <div>\n",
              "                <p><b>SparkSession - in-memory</b></p>\n",
              "                \n",
              "        <div>\n",
              "            <p><b>SparkContext</b></p>\n",
              "\n",
              "            <p><a href=\"http://a97344f8e99e:4050\">Spark UI</a></p>\n",
              "\n",
              "            <dl>\n",
              "              <dt>Version</dt>\n",
              "                <dd><code>v3.3.2</code></dd>\n",
              "              <dt>Master</dt>\n",
              "                <dd><code>local</code></dd>\n",
              "              <dt>AppName</dt>\n",
              "                <dd><code>Colab</code></dd>\n",
              "            </dl>\n",
              "        </div>\n",
              "        \n",
              "            </div>\n",
              "        "
            ]
          },
          "metadata": {},
          "execution_count": 2
        }
      ]
    },
    {
      "cell_type": "code",
      "source": [
        "# Merge two DataFrames in PySpark\n",
        "\n",
        "simpleData = [('Pavan', 'Data Engineer', 'Bangalore', 45000, 27, 5000), \\\n",
        "              ('Ullas', 'SDE', 'Bangalore', 30000, 27, 5000), \\\n",
        "              ('Nitin', 'SDE', 'Hyderabad', 30000, 30, 10000) \\\n",
        "              ]\n",
        "columns = ['Employee_Name', 'Department', 'City', 'Salary', 'Age', 'Bonus']\n",
        "df = spark.createDataFrame(data = simpleData, schema = columns)\n",
        "df.printSchema()\n",
        "df.show(truncate=False)"
      ],
      "metadata": {
        "colab": {
          "base_uri": "https://localhost:8080/"
        },
        "id": "Nk31pElAKAjK",
        "outputId": "34f47b8c-0322-44bd-e3a5-f871ab1c6fd1"
      },
      "execution_count": null,
      "outputs": [
        {
          "output_type": "stream",
          "name": "stdout",
          "text": [
            "root\n",
            " |-- Employee_Name: string (nullable = true)\n",
            " |-- Department: string (nullable = true)\n",
            " |-- City: string (nullable = true)\n",
            " |-- Salary: long (nullable = true)\n",
            " |-- Age: long (nullable = true)\n",
            " |-- Bonus: long (nullable = true)\n",
            "\n",
            "+-------------+-------------+---------+------+---+-----+\n",
            "|Employee_Name|Department   |City     |Salary|Age|Bonus|\n",
            "+-------------+-------------+---------+------+---+-----+\n",
            "|Pavan        |Data Engineer|Bangalore|45000 |27 |5000 |\n",
            "|Ullas        |SDE          |Bangalore|30000 |27 |5000 |\n",
            "|Nitin        |SDE          |Hyderabad|30000 |30 |10000|\n",
            "+-------------+-------------+---------+------+---+-----+\n",
            "\n"
          ]
        }
      ]
    },
    {
      "cell_type": "code",
      "source": [
        "simpleData2 = [('Jeevan', 'Senior SE', 'Chitradurga', 40000, 25, 4000), \\\n",
        "               ('Ummar', 'SDE', 'Hyderabad', 35000, 24, 3000), \\\n",
        "               ('Surakshith', 'SDE', 'Cheanni', 40000, 24, 3000)\n",
        "               ]\n",
        "columns2 = columns\n",
        "df2 = spark.createDataFrame(data = simpleData2, schema = columns2)\n",
        "df2.printSchema()\n",
        "df2.show(truncate=False)"
      ],
      "metadata": {
        "colab": {
          "base_uri": "https://localhost:8080/"
        },
        "id": "uVacVBLSLl0y",
        "outputId": "73e5ec31-5713-4f11-f32e-cee99b08d1da"
      },
      "execution_count": null,
      "outputs": [
        {
          "output_type": "stream",
          "name": "stdout",
          "text": [
            "root\n",
            " |-- Employee_Name: string (nullable = true)\n",
            " |-- Department: string (nullable = true)\n",
            " |-- City: string (nullable = true)\n",
            " |-- Salary: long (nullable = true)\n",
            " |-- Age: long (nullable = true)\n",
            " |-- Bonus: long (nullable = true)\n",
            "\n",
            "+-------------+----------+-----------+------+---+-----+\n",
            "|Employee_Name|Department|City       |Salary|Age|Bonus|\n",
            "+-------------+----------+-----------+------+---+-----+\n",
            "|Jeevan       |Senior SE |Chitradurga|40000 |25 |4000 |\n",
            "|Ummar        |SDE       |Hyderabad  |35000 |24 |3000 |\n",
            "|Surakshith   |SDE       |Cheanni    |40000 |24 |3000 |\n",
            "+-------------+----------+-----------+------+---+-----+\n",
            "\n"
          ]
        }
      ]
    },
    {
      "cell_type": "code",
      "source": [
        "unionDF = df.union(df2)\n",
        "unionDF.show(truncate=False)"
      ],
      "metadata": {
        "colab": {
          "base_uri": "https://localhost:8080/"
        },
        "id": "OdBUeShWM1Rv",
        "outputId": "c30cc7a8-978e-4bca-dc63-1d31f8b0f59b"
      },
      "execution_count": null,
      "outputs": [
        {
          "output_type": "stream",
          "name": "stdout",
          "text": [
            "+-------------+-------------+-----------+------+---+-----+\n",
            "|Employee_Name|Department   |City       |Salary|Age|Bonus|\n",
            "+-------------+-------------+-----------+------+---+-----+\n",
            "|Pavan        |Data Engineer|Bangalore  |45000 |27 |5000 |\n",
            "|Ullas        |SDE          |Bangalore  |30000 |27 |5000 |\n",
            "|Nitin        |SDE          |Hyderabad  |30000 |30 |10000|\n",
            "|Jeevan       |Senior SE    |Chitradurga|40000 |25 |4000 |\n",
            "|Ummar        |SDE          |Hyderabad  |35000 |24 |3000 |\n",
            "|Surakshith   |SDE          |Cheanni    |40000 |24 |3000 |\n",
            "+-------------+-------------+-----------+------+---+-----+\n",
            "\n"
          ]
        }
      ]
    },
    {
      "cell_type": "code",
      "source": [
        "!wget https://github.com/Pavantelugura/Connect-Pyspark-in-Colab/blob/main/employees.csv\n"
      ],
      "metadata": {
        "colab": {
          "base_uri": "https://localhost:8080/"
        },
        "id": "qiAvj63LRxVV",
        "outputId": "c944faa9-c102-4c5d-b8cb-38979d62a64f"
      },
      "execution_count": null,
      "outputs": [
        {
          "output_type": "stream",
          "name": "stdout",
          "text": [
            "--2023-03-30 07:08:12--  https://github.com/Pavantelugura/Connect-Pyspark-in-Colab/blob/main/employees.csv\n",
            "Resolving github.com (github.com)... 140.82.112.4\n",
            "Connecting to github.com (github.com)|140.82.112.4|:443... connected.\n",
            "HTTP request sent, awaiting response... 200 OK\n",
            "Length: unspecified [text/html]\n",
            "Saving to: ‘employees.csv’\n",
            "\n",
            "employees.csv           [ <=>                ] 164.97K  --.-KB/s    in 0.04s   \n",
            "\n",
            "2023-03-30 07:08:12 (4.05 MB/s) - ‘employees.csv’ saved [168927]\n",
            "\n"
          ]
        }
      ]
    },
    {
      "cell_type": "code",
      "source": [
        "!ls"
      ],
      "metadata": {
        "colab": {
          "base_uri": "https://localhost:8080/"
        },
        "id": "EDUP6Px8UJhj",
        "outputId": "b1160b26-b92e-4ac1-8c4d-b468e670b021"
      },
      "execution_count": null,
      "outputs": [
        {
          "output_type": "stream",
          "name": "stdout",
          "text": [
            "drive\t       sample_data\t\tspark-3.3.2-bin-hadoop3.tgz\n",
            "employees.csv  spark-3.3.2-bin-hadoop3\n"
          ]
        }
      ]
    },
    {
      "cell_type": "code",
      "source": [
        "df = spark.read.csv('employees.csv', header=True, inferSchema=True)"
      ],
      "metadata": {
        "id": "eBZM_5r2UPwv"
      },
      "execution_count": 24,
      "outputs": []
    },
    {
      "cell_type": "code",
      "source": [
        "df.printSchema()\n",
        "df.show()"
      ],
      "metadata": {
        "colab": {
          "base_uri": "https://localhost:8080/"
        },
        "id": "S4PaabqNWc6L",
        "outputId": "95c319cf-e262-45c3-9951-11db79ab6a93"
      },
      "execution_count": 25,
      "outputs": [
        {
          "output_type": "stream",
          "name": "stdout",
          "text": [
            "root\n",
            " |-- EMPLOYEE_ID: integer (nullable = true)\n",
            " |-- FIRST_NAME: string (nullable = true)\n",
            " |-- LAST_NAME: string (nullable = true)\n",
            " |-- EMAIL: string (nullable = true)\n",
            " |-- PHONE_NUMBER: string (nullable = true)\n",
            " |-- HIRE_DATE: string (nullable = true)\n",
            " |-- JOB_ID: string (nullable = true)\n",
            " |-- SALARY: integer (nullable = true)\n",
            " |-- COMMISSION_PCT: string (nullable = true)\n",
            " |-- MANAGER_ID: string (nullable = true)\n",
            " |-- DEPARTMENT_ID: integer (nullable = true)\n",
            "\n",
            "+-----------+----------+---------+--------+------------+---------+----------+------+--------------+----------+-------------+\n",
            "|EMPLOYEE_ID|FIRST_NAME|LAST_NAME|   EMAIL|PHONE_NUMBER|HIRE_DATE|    JOB_ID|SALARY|COMMISSION_PCT|MANAGER_ID|DEPARTMENT_ID|\n",
            "+-----------+----------+---------+--------+------------+---------+----------+------+--------------+----------+-------------+\n",
            "|        198|    Donald| OConnell|DOCONNEL|650.507.9833|21-JUN-07|  SH_CLERK|  2600|            - |       124|           50|\n",
            "|        199|   Douglas|    Grant|  DGRANT|650.507.9844|13-JAN-08|  SH_CLERK|  2600|            - |       124|           50|\n",
            "|        200|  Jennifer|   Whalen| JWHALEN|515.123.4444|17-SEP-03|   AD_ASST|  4400|            - |       101|           10|\n",
            "|        201|   Michael|Hartstein|MHARTSTE|515.123.5555|17-FEB-04|    MK_MAN| 13000|            - |       100|           20|\n",
            "|        202|       Pat|      Fay|    PFAY|603.123.6666|17-AUG-05|    MK_REP|  6000|            - |       201|           20|\n",
            "|        203|     Susan|   Mavris| SMAVRIS|515.123.7777|07-JUN-02|    HR_REP|  6500|            - |       101|           40|\n",
            "|        204|   Hermann|     Baer|   HBAER|515.123.8888|07-JUN-02|    PR_REP| 10000|            - |       101|           70|\n",
            "|        205|   Shelley|  Higgins|SHIGGINS|515.123.8080|07-JUN-02|    AC_MGR| 12008|            - |       101|          110|\n",
            "|        206|   William|    Gietz|  WGIETZ|515.123.8181|07-JUN-02|AC_ACCOUNT|  8300|            - |       205|          110|\n",
            "|        100|    Steven|     King|   SKING|515.123.4567|17-JUN-03|   AD_PRES| 24000|            - |        - |           90|\n",
            "|        101|     Neena|  Kochhar|NKOCHHAR|515.123.4568|21-SEP-05|     AD_VP| 17000|            - |       100|           90|\n",
            "|        102|       Lex|  De Haan| LDEHAAN|515.123.4569|13-JAN-01|     AD_VP| 17000|            - |       100|           90|\n",
            "|        103| Alexander|   Hunold| AHUNOLD|590.423.4567|03-JAN-06|   IT_PROG|  9000|            - |       102|           60|\n",
            "|        104|     Bruce|    Ernst|  BERNST|590.423.4568|21-MAY-07|   IT_PROG|  6000|            - |       103|           60|\n",
            "|        105|     David|   Austin| DAUSTIN|590.423.4569|25-JUN-05|   IT_PROG|  4800|            - |       103|           60|\n",
            "|        106|     Valli|Pataballa|VPATABAL|590.423.4560|05-FEB-06|   IT_PROG|  4800|            - |       103|           60|\n",
            "|        107|     Diana|  Lorentz|DLORENTZ|590.423.5567|07-FEB-07|   IT_PROG|  4200|            - |       103|           60|\n",
            "|        108|     Nancy|Greenberg|NGREENBE|515.124.4569|17-AUG-02|    FI_MGR| 12008|            - |       101|          100|\n",
            "|        109|    Daniel|   Faviet| DFAVIET|515.124.4169|16-AUG-02|FI_ACCOUNT|  9000|            - |       108|          100|\n",
            "|        110|      John|     Chen|   JCHEN|515.124.4269|28-SEP-05|FI_ACCOUNT|  8200|            - |       108|          100|\n",
            "+-----------+----------+---------+--------+------------+---------+----------+------+--------------+----------+-------------+\n",
            "only showing top 20 rows\n",
            "\n"
          ]
        }
      ]
    },
    {
      "cell_type": "code",
      "source": [
        "df.select('*').show()"
      ],
      "metadata": {
        "colab": {
          "base_uri": "https://localhost:8080/"
        },
        "id": "7IK3aKdKa7ad",
        "outputId": "f8e01ce2-a15a-4e0b-880d-5f40e94d2461"
      },
      "execution_count": 26,
      "outputs": [
        {
          "output_type": "stream",
          "name": "stdout",
          "text": [
            "+-----------+----------+---------+--------+------------+---------+----------+------+--------------+----------+-------------+\n",
            "|EMPLOYEE_ID|FIRST_NAME|LAST_NAME|   EMAIL|PHONE_NUMBER|HIRE_DATE|    JOB_ID|SALARY|COMMISSION_PCT|MANAGER_ID|DEPARTMENT_ID|\n",
            "+-----------+----------+---------+--------+------------+---------+----------+------+--------------+----------+-------------+\n",
            "|        198|    Donald| OConnell|DOCONNEL|650.507.9833|21-JUN-07|  SH_CLERK|  2600|            - |       124|           50|\n",
            "|        199|   Douglas|    Grant|  DGRANT|650.507.9844|13-JAN-08|  SH_CLERK|  2600|            - |       124|           50|\n",
            "|        200|  Jennifer|   Whalen| JWHALEN|515.123.4444|17-SEP-03|   AD_ASST|  4400|            - |       101|           10|\n",
            "|        201|   Michael|Hartstein|MHARTSTE|515.123.5555|17-FEB-04|    MK_MAN| 13000|            - |       100|           20|\n",
            "|        202|       Pat|      Fay|    PFAY|603.123.6666|17-AUG-05|    MK_REP|  6000|            - |       201|           20|\n",
            "|        203|     Susan|   Mavris| SMAVRIS|515.123.7777|07-JUN-02|    HR_REP|  6500|            - |       101|           40|\n",
            "|        204|   Hermann|     Baer|   HBAER|515.123.8888|07-JUN-02|    PR_REP| 10000|            - |       101|           70|\n",
            "|        205|   Shelley|  Higgins|SHIGGINS|515.123.8080|07-JUN-02|    AC_MGR| 12008|            - |       101|          110|\n",
            "|        206|   William|    Gietz|  WGIETZ|515.123.8181|07-JUN-02|AC_ACCOUNT|  8300|            - |       205|          110|\n",
            "|        100|    Steven|     King|   SKING|515.123.4567|17-JUN-03|   AD_PRES| 24000|            - |        - |           90|\n",
            "|        101|     Neena|  Kochhar|NKOCHHAR|515.123.4568|21-SEP-05|     AD_VP| 17000|            - |       100|           90|\n",
            "|        102|       Lex|  De Haan| LDEHAAN|515.123.4569|13-JAN-01|     AD_VP| 17000|            - |       100|           90|\n",
            "|        103| Alexander|   Hunold| AHUNOLD|590.423.4567|03-JAN-06|   IT_PROG|  9000|            - |       102|           60|\n",
            "|        104|     Bruce|    Ernst|  BERNST|590.423.4568|21-MAY-07|   IT_PROG|  6000|            - |       103|           60|\n",
            "|        105|     David|   Austin| DAUSTIN|590.423.4569|25-JUN-05|   IT_PROG|  4800|            - |       103|           60|\n",
            "|        106|     Valli|Pataballa|VPATABAL|590.423.4560|05-FEB-06|   IT_PROG|  4800|            - |       103|           60|\n",
            "|        107|     Diana|  Lorentz|DLORENTZ|590.423.5567|07-FEB-07|   IT_PROG|  4200|            - |       103|           60|\n",
            "|        108|     Nancy|Greenberg|NGREENBE|515.124.4569|17-AUG-02|    FI_MGR| 12008|            - |       101|          100|\n",
            "|        109|    Daniel|   Faviet| DFAVIET|515.124.4169|16-AUG-02|FI_ACCOUNT|  9000|            - |       108|          100|\n",
            "|        110|      John|     Chen|   JCHEN|515.124.4269|28-SEP-05|FI_ACCOUNT|  8200|            - |       108|          100|\n",
            "+-----------+----------+---------+--------+------------+---------+----------+------+--------------+----------+-------------+\n",
            "only showing top 20 rows\n",
            "\n"
          ]
        }
      ]
    },
    {
      "cell_type": "code",
      "source": [
        "df.select('EMPLOYEE_ID', 'LAST_NAME').show()"
      ],
      "metadata": {
        "colab": {
          "base_uri": "https://localhost:8080/"
        },
        "id": "BjBaBOb1dZM6",
        "outputId": "b192695a-012c-46bf-b8bc-e5269d178808"
      },
      "execution_count": 27,
      "outputs": [
        {
          "output_type": "stream",
          "name": "stdout",
          "text": [
            "+-----------+---------+\n",
            "|EMPLOYEE_ID|LAST_NAME|\n",
            "+-----------+---------+\n",
            "|        198| OConnell|\n",
            "|        199|    Grant|\n",
            "|        200|   Whalen|\n",
            "|        201|Hartstein|\n",
            "|        202|      Fay|\n",
            "|        203|   Mavris|\n",
            "|        204|     Baer|\n",
            "|        205|  Higgins|\n",
            "|        206|    Gietz|\n",
            "|        100|     King|\n",
            "|        101|  Kochhar|\n",
            "|        102|  De Haan|\n",
            "|        103|   Hunold|\n",
            "|        104|    Ernst|\n",
            "|        105|   Austin|\n",
            "|        106|Pataballa|\n",
            "|        107|  Lorentz|\n",
            "|        108|Greenberg|\n",
            "|        109|   Faviet|\n",
            "|        110|     Chen|\n",
            "+-----------+---------+\n",
            "only showing top 20 rows\n",
            "\n"
          ]
        }
      ]
    },
    {
      "cell_type": "code",
      "source": [
        "from pyspark.sql.functions import col"
      ],
      "metadata": {
        "id": "LlbCskH5d8GO"
      },
      "execution_count": 28,
      "outputs": []
    },
    {
      "cell_type": "code",
      "source": [
        "df.select(col('EMPLOYEE_ID').alias('EMP_ID'), col('FIRST_NAME').alias('F_NAME')).show()"
      ],
      "metadata": {
        "colab": {
          "base_uri": "https://localhost:8080/"
        },
        "id": "y_sb86DHeLTT",
        "outputId": "99a034c0-8920-4e36-a44a-4007fe9acfa5"
      },
      "execution_count": 29,
      "outputs": [
        {
          "output_type": "stream",
          "name": "stdout",
          "text": [
            "+------+---------+\n",
            "|EMP_ID|   F_NAME|\n",
            "+------+---------+\n",
            "|   198|   Donald|\n",
            "|   199|  Douglas|\n",
            "|   200| Jennifer|\n",
            "|   201|  Michael|\n",
            "|   202|      Pat|\n",
            "|   203|    Susan|\n",
            "|   204|  Hermann|\n",
            "|   205|  Shelley|\n",
            "|   206|  William|\n",
            "|   100|   Steven|\n",
            "|   101|    Neena|\n",
            "|   102|      Lex|\n",
            "|   103|Alexander|\n",
            "|   104|    Bruce|\n",
            "|   105|    David|\n",
            "|   106|    Valli|\n",
            "|   107|    Diana|\n",
            "|   108|    Nancy|\n",
            "|   109|   Daniel|\n",
            "|   110|     John|\n",
            "+------+---------+\n",
            "only showing top 20 rows\n",
            "\n"
          ]
        }
      ]
    },
    {
      "cell_type": "code",
      "source": [
        "df.select('EMPLOYEE_ID', 'FIRST_NAME', 'SALARY').withColumn('NEW_SALARY', col('SALARY') + 1000).show()"
      ],
      "metadata": {
        "colab": {
          "base_uri": "https://localhost:8080/"
        },
        "id": "K5pRHe4Xeflk",
        "outputId": "2c0ce720-02a4-4548-e566-7db66577f7ef"
      },
      "execution_count": 30,
      "outputs": [
        {
          "output_type": "stream",
          "name": "stdout",
          "text": [
            "+-----------+----------+------+----------+\n",
            "|EMPLOYEE_ID|FIRST_NAME|SALARY|NEW_SALARY|\n",
            "+-----------+----------+------+----------+\n",
            "|        198|    Donald|  2600|      3600|\n",
            "|        199|   Douglas|  2600|      3600|\n",
            "|        200|  Jennifer|  4400|      5400|\n",
            "|        201|   Michael| 13000|     14000|\n",
            "|        202|       Pat|  6000|      7000|\n",
            "|        203|     Susan|  6500|      7500|\n",
            "|        204|   Hermann| 10000|     11000|\n",
            "|        205|   Shelley| 12008|     13008|\n",
            "|        206|   William|  8300|      9300|\n",
            "|        100|    Steven| 24000|     25000|\n",
            "|        101|     Neena| 17000|     18000|\n",
            "|        102|       Lex| 17000|     18000|\n",
            "|        103| Alexander|  9000|     10000|\n",
            "|        104|     Bruce|  6000|      7000|\n",
            "|        105|     David|  4800|      5800|\n",
            "|        106|     Valli|  4800|      5800|\n",
            "|        107|     Diana|  4200|      5200|\n",
            "|        108|     Nancy| 12008|     13008|\n",
            "|        109|    Daniel|  9000|     10000|\n",
            "|        110|      John|  8200|      9200|\n",
            "+-----------+----------+------+----------+\n",
            "only showing top 20 rows\n",
            "\n"
          ]
        }
      ]
    },
    {
      "cell_type": "code",
      "source": [
        " df.withColumn(\"NEW_SALARY\",col(\"SALARY\") + 1000).select(\"EMPLOYEE_ID\",\"FIRST_NAME\",\"NEW_SALARY\").show()"
      ],
      "metadata": {
        "colab": {
          "base_uri": "https://localhost:8080/"
        },
        "id": "pgkwCXQvgPx4",
        "outputId": "50dd780c-b022-4b57-c6c8-ef11ec1eaf7b"
      },
      "execution_count": 38,
      "outputs": [
        {
          "output_type": "stream",
          "name": "stdout",
          "text": [
            "+-----------+----------+----------+\n",
            "|EMPLOYEE_ID|FIRST_NAME|NEW_SALARY|\n",
            "+-----------+----------+----------+\n",
            "|        198|    Donald|      3600|\n",
            "|        199|   Douglas|      3600|\n",
            "|        200|  Jennifer|      5400|\n",
            "|        201|   Michael|     14000|\n",
            "|        202|       Pat|      7000|\n",
            "|        203|     Susan|      7500|\n",
            "|        204|   Hermann|     11000|\n",
            "|        205|   Shelley|     13008|\n",
            "|        206|   William|      9300|\n",
            "|        100|    Steven|     25000|\n",
            "|        101|     Neena|     18000|\n",
            "|        102|       Lex|     18000|\n",
            "|        103| Alexander|     10000|\n",
            "|        104|     Bruce|      7000|\n",
            "|        105|     David|      5800|\n",
            "|        106|     Valli|      5800|\n",
            "|        107|     Diana|      5200|\n",
            "|        108|     Nancy|     13008|\n",
            "|        109|    Daniel|     10000|\n",
            "|        110|      John|      9200|\n",
            "+-----------+----------+----------+\n",
            "only showing top 20 rows\n",
            "\n"
          ]
        }
      ]
    },
    {
      "cell_type": "code",
      "source": [
        "df.withColumnRenamed('SALARY', 'EMP_SALARY').show()"
      ],
      "metadata": {
        "colab": {
          "base_uri": "https://localhost:8080/"
        },
        "id": "WtKrw3aUjLww",
        "outputId": "b2dd571f-9725-4268-e1b4-738bfa054a8e"
      },
      "execution_count": 39,
      "outputs": [
        {
          "output_type": "stream",
          "name": "stdout",
          "text": [
            "+-----------+----------+---------+--------+------------+---------+----------+----------+--------------+----------+-------------+\n",
            "|EMPLOYEE_ID|FIRST_NAME|LAST_NAME|   EMAIL|PHONE_NUMBER|HIRE_DATE|    JOB_ID|EMP_SALARY|COMMISSION_PCT|MANAGER_ID|DEPARTMENT_ID|\n",
            "+-----------+----------+---------+--------+------------+---------+----------+----------+--------------+----------+-------------+\n",
            "|        198|    Donald| OConnell|DOCONNEL|650.507.9833|21-JUN-07|  SH_CLERK|      2600|            - |       124|           50|\n",
            "|        199|   Douglas|    Grant|  DGRANT|650.507.9844|13-JAN-08|  SH_CLERK|      2600|            - |       124|           50|\n",
            "|        200|  Jennifer|   Whalen| JWHALEN|515.123.4444|17-SEP-03|   AD_ASST|      4400|            - |       101|           10|\n",
            "|        201|   Michael|Hartstein|MHARTSTE|515.123.5555|17-FEB-04|    MK_MAN|     13000|            - |       100|           20|\n",
            "|        202|       Pat|      Fay|    PFAY|603.123.6666|17-AUG-05|    MK_REP|      6000|            - |       201|           20|\n",
            "|        203|     Susan|   Mavris| SMAVRIS|515.123.7777|07-JUN-02|    HR_REP|      6500|            - |       101|           40|\n",
            "|        204|   Hermann|     Baer|   HBAER|515.123.8888|07-JUN-02|    PR_REP|     10000|            - |       101|           70|\n",
            "|        205|   Shelley|  Higgins|SHIGGINS|515.123.8080|07-JUN-02|    AC_MGR|     12008|            - |       101|          110|\n",
            "|        206|   William|    Gietz|  WGIETZ|515.123.8181|07-JUN-02|AC_ACCOUNT|      8300|            - |       205|          110|\n",
            "|        100|    Steven|     King|   SKING|515.123.4567|17-JUN-03|   AD_PRES|     24000|            - |        - |           90|\n",
            "|        101|     Neena|  Kochhar|NKOCHHAR|515.123.4568|21-SEP-05|     AD_VP|     17000|            - |       100|           90|\n",
            "|        102|       Lex|  De Haan| LDEHAAN|515.123.4569|13-JAN-01|     AD_VP|     17000|            - |       100|           90|\n",
            "|        103| Alexander|   Hunold| AHUNOLD|590.423.4567|03-JAN-06|   IT_PROG|      9000|            - |       102|           60|\n",
            "|        104|     Bruce|    Ernst|  BERNST|590.423.4568|21-MAY-07|   IT_PROG|      6000|            - |       103|           60|\n",
            "|        105|     David|   Austin| DAUSTIN|590.423.4569|25-JUN-05|   IT_PROG|      4800|            - |       103|           60|\n",
            "|        106|     Valli|Pataballa|VPATABAL|590.423.4560|05-FEB-06|   IT_PROG|      4800|            - |       103|           60|\n",
            "|        107|     Diana|  Lorentz|DLORENTZ|590.423.5567|07-FEB-07|   IT_PROG|      4200|            - |       103|           60|\n",
            "|        108|     Nancy|Greenberg|NGREENBE|515.124.4569|17-AUG-02|    FI_MGR|     12008|            - |       101|          100|\n",
            "|        109|    Daniel|   Faviet| DFAVIET|515.124.4169|16-AUG-02|FI_ACCOUNT|      9000|            - |       108|          100|\n",
            "|        110|      John|     Chen|   JCHEN|515.124.4269|28-SEP-05|FI_ACCOUNT|      8200|            - |       108|          100|\n",
            "+-----------+----------+---------+--------+------------+---------+----------+----------+--------------+----------+-------------+\n",
            "only showing top 20 rows\n",
            "\n"
          ]
        }
      ]
    },
    {
      "cell_type": "code",
      "source": [
        "df.drop('COMISSION_PCT').show()"
      ],
      "metadata": {
        "colab": {
          "base_uri": "https://localhost:8080/"
        },
        "id": "5fYigrXZkwKe",
        "outputId": "aeba714e-7a4b-4250-8025-1545a0152077"
      },
      "execution_count": 40,
      "outputs": [
        {
          "output_type": "stream",
          "name": "stdout",
          "text": [
            "+-----------+----------+---------+--------+------------+---------+----------+------+--------------+----------+-------------+\n",
            "|EMPLOYEE_ID|FIRST_NAME|LAST_NAME|   EMAIL|PHONE_NUMBER|HIRE_DATE|    JOB_ID|SALARY|COMMISSION_PCT|MANAGER_ID|DEPARTMENT_ID|\n",
            "+-----------+----------+---------+--------+------------+---------+----------+------+--------------+----------+-------------+\n",
            "|        198|    Donald| OConnell|DOCONNEL|650.507.9833|21-JUN-07|  SH_CLERK|  2600|            - |       124|           50|\n",
            "|        199|   Douglas|    Grant|  DGRANT|650.507.9844|13-JAN-08|  SH_CLERK|  2600|            - |       124|           50|\n",
            "|        200|  Jennifer|   Whalen| JWHALEN|515.123.4444|17-SEP-03|   AD_ASST|  4400|            - |       101|           10|\n",
            "|        201|   Michael|Hartstein|MHARTSTE|515.123.5555|17-FEB-04|    MK_MAN| 13000|            - |       100|           20|\n",
            "|        202|       Pat|      Fay|    PFAY|603.123.6666|17-AUG-05|    MK_REP|  6000|            - |       201|           20|\n",
            "|        203|     Susan|   Mavris| SMAVRIS|515.123.7777|07-JUN-02|    HR_REP|  6500|            - |       101|           40|\n",
            "|        204|   Hermann|     Baer|   HBAER|515.123.8888|07-JUN-02|    PR_REP| 10000|            - |       101|           70|\n",
            "|        205|   Shelley|  Higgins|SHIGGINS|515.123.8080|07-JUN-02|    AC_MGR| 12008|            - |       101|          110|\n",
            "|        206|   William|    Gietz|  WGIETZ|515.123.8181|07-JUN-02|AC_ACCOUNT|  8300|            - |       205|          110|\n",
            "|        100|    Steven|     King|   SKING|515.123.4567|17-JUN-03|   AD_PRES| 24000|            - |        - |           90|\n",
            "|        101|     Neena|  Kochhar|NKOCHHAR|515.123.4568|21-SEP-05|     AD_VP| 17000|            - |       100|           90|\n",
            "|        102|       Lex|  De Haan| LDEHAAN|515.123.4569|13-JAN-01|     AD_VP| 17000|            - |       100|           90|\n",
            "|        103| Alexander|   Hunold| AHUNOLD|590.423.4567|03-JAN-06|   IT_PROG|  9000|            - |       102|           60|\n",
            "|        104|     Bruce|    Ernst|  BERNST|590.423.4568|21-MAY-07|   IT_PROG|  6000|            - |       103|           60|\n",
            "|        105|     David|   Austin| DAUSTIN|590.423.4569|25-JUN-05|   IT_PROG|  4800|            - |       103|           60|\n",
            "|        106|     Valli|Pataballa|VPATABAL|590.423.4560|05-FEB-06|   IT_PROG|  4800|            - |       103|           60|\n",
            "|        107|     Diana|  Lorentz|DLORENTZ|590.423.5567|07-FEB-07|   IT_PROG|  4200|            - |       103|           60|\n",
            "|        108|     Nancy|Greenberg|NGREENBE|515.124.4569|17-AUG-02|    FI_MGR| 12008|            - |       101|          100|\n",
            "|        109|    Daniel|   Faviet| DFAVIET|515.124.4169|16-AUG-02|FI_ACCOUNT|  9000|            - |       108|          100|\n",
            "|        110|      John|     Chen|   JCHEN|515.124.4269|28-SEP-05|FI_ACCOUNT|  8200|            - |       108|          100|\n",
            "+-----------+----------+---------+--------+------------+---------+----------+------+--------------+----------+-------------+\n",
            "only showing top 20 rows\n",
            "\n"
          ]
        }
      ]
    },
    {
      "cell_type": "code",
      "source": [
        "df.filter(col('SALARY') < 5000).show()"
      ],
      "metadata": {
        "colab": {
          "base_uri": "https://localhost:8080/"
        },
        "id": "7W5GYD8Sk2B3",
        "outputId": "9caae90f-e279-42d6-b3be-80d33b5bf5a6"
      },
      "execution_count": 41,
      "outputs": [
        {
          "output_type": "stream",
          "name": "stdout",
          "text": [
            "+-----------+----------+-----------+--------+------------+---------+--------+------+--------------+----------+-------------+\n",
            "|EMPLOYEE_ID|FIRST_NAME|  LAST_NAME|   EMAIL|PHONE_NUMBER|HIRE_DATE|  JOB_ID|SALARY|COMMISSION_PCT|MANAGER_ID|DEPARTMENT_ID|\n",
            "+-----------+----------+-----------+--------+------------+---------+--------+------+--------------+----------+-------------+\n",
            "|        198|    Donald|   OConnell|DOCONNEL|650.507.9833|21-JUN-07|SH_CLERK|  2600|            - |       124|           50|\n",
            "|        199|   Douglas|      Grant|  DGRANT|650.507.9844|13-JAN-08|SH_CLERK|  2600|            - |       124|           50|\n",
            "|        200|  Jennifer|     Whalen| JWHALEN|515.123.4444|17-SEP-03| AD_ASST|  4400|            - |       101|           10|\n",
            "|        105|     David|     Austin| DAUSTIN|590.423.4569|25-JUN-05| IT_PROG|  4800|            - |       103|           60|\n",
            "|        106|     Valli|  Pataballa|VPATABAL|590.423.4560|05-FEB-06| IT_PROG|  4800|            - |       103|           60|\n",
            "|        107|     Diana|    Lorentz|DLORENTZ|590.423.5567|07-FEB-07| IT_PROG|  4200|            - |       103|           60|\n",
            "|        115| Alexander|       Khoo|   AKHOO|515.127.4562|18-MAY-03|PU_CLERK|  3100|            - |       114|           30|\n",
            "|        116|    Shelli|      Baida|  SBAIDA|515.127.4563|24-DEC-05|PU_CLERK|  2900|            - |       114|           30|\n",
            "|        117|     Sigal|     Tobias| STOBIAS|515.127.4564|24-JUL-05|PU_CLERK|  2800|            - |       114|           30|\n",
            "|        118|       Guy|     Himuro| GHIMURO|515.127.4565|15-NOV-06|PU_CLERK|  2600|            - |       114|           30|\n",
            "|        119|     Karen| Colmenares|KCOLMENA|515.127.4566|10-AUG-07|PU_CLERK|  2500|            - |       114|           30|\n",
            "|        125|     Julia|      Nayer|  JNAYER|650.124.1214|16-JUL-05|ST_CLERK|  3200|            - |       120|           50|\n",
            "|        126|     Irene|Mikkilineni|IMIKKILI|650.124.1224|28-SEP-06|ST_CLERK|  2700|            - |       120|           50|\n",
            "|        127|     James|     Landry| JLANDRY|650.124.1334|14-JAN-07|ST_CLERK|  2400|            - |       120|           50|\n",
            "|        128|    Steven|     Markle| SMARKLE|650.124.1434|08-MAR-08|ST_CLERK|  2200|            - |       120|           50|\n",
            "|        129|     Laura|     Bissot| LBISSOT|650.124.5234|20-AUG-05|ST_CLERK|  3300|            - |       121|           50|\n",
            "|        130|     Mozhe|   Atkinson|MATKINSO|650.124.6234|30-OCT-05|ST_CLERK|  2800|            - |       121|           50|\n",
            "|        131|     James|     Marlow| JAMRLOW|650.124.7234|16-FEB-05|ST_CLERK|  2500|            - |       121|           50|\n",
            "|        132|        TJ|      Olson| TJOLSON|650.124.8234|10-APR-07|ST_CLERK|  2100|            - |       121|           50|\n",
            "|        133|     Jason|     Mallin| JMALLIN|650.127.1934|14-JUN-04|ST_CLERK|  3300|            - |       122|           50|\n",
            "+-----------+----------+-----------+--------+------------+---------+--------+------+--------------+----------+-------------+\n",
            "only showing top 20 rows\n",
            "\n"
          ]
        }
      ]
    },
    {
      "cell_type": "code",
      "source": [
        "df.filter(col('SALARY') < 5000).show(100)"
      ],
      "metadata": {
        "colab": {
          "base_uri": "https://localhost:8080/"
        },
        "id": "FlfNXeQ4k8mX",
        "outputId": "db8d9896-3f3c-46f5-e543-77812bc7d791"
      },
      "execution_count": 42,
      "outputs": [
        {
          "output_type": "stream",
          "name": "stdout",
          "text": [
            "+-----------+----------+-----------+--------+------------+---------+--------+------+--------------+----------+-------------+\n",
            "|EMPLOYEE_ID|FIRST_NAME|  LAST_NAME|   EMAIL|PHONE_NUMBER|HIRE_DATE|  JOB_ID|SALARY|COMMISSION_PCT|MANAGER_ID|DEPARTMENT_ID|\n",
            "+-----------+----------+-----------+--------+------------+---------+--------+------+--------------+----------+-------------+\n",
            "|        198|    Donald|   OConnell|DOCONNEL|650.507.9833|21-JUN-07|SH_CLERK|  2600|            - |       124|           50|\n",
            "|        199|   Douglas|      Grant|  DGRANT|650.507.9844|13-JAN-08|SH_CLERK|  2600|            - |       124|           50|\n",
            "|        200|  Jennifer|     Whalen| JWHALEN|515.123.4444|17-SEP-03| AD_ASST|  4400|            - |       101|           10|\n",
            "|        105|     David|     Austin| DAUSTIN|590.423.4569|25-JUN-05| IT_PROG|  4800|            - |       103|           60|\n",
            "|        106|     Valli|  Pataballa|VPATABAL|590.423.4560|05-FEB-06| IT_PROG|  4800|            - |       103|           60|\n",
            "|        107|     Diana|    Lorentz|DLORENTZ|590.423.5567|07-FEB-07| IT_PROG|  4200|            - |       103|           60|\n",
            "|        115| Alexander|       Khoo|   AKHOO|515.127.4562|18-MAY-03|PU_CLERK|  3100|            - |       114|           30|\n",
            "|        116|    Shelli|      Baida|  SBAIDA|515.127.4563|24-DEC-05|PU_CLERK|  2900|            - |       114|           30|\n",
            "|        117|     Sigal|     Tobias| STOBIAS|515.127.4564|24-JUL-05|PU_CLERK|  2800|            - |       114|           30|\n",
            "|        118|       Guy|     Himuro| GHIMURO|515.127.4565|15-NOV-06|PU_CLERK|  2600|            - |       114|           30|\n",
            "|        119|     Karen| Colmenares|KCOLMENA|515.127.4566|10-AUG-07|PU_CLERK|  2500|            - |       114|           30|\n",
            "|        125|     Julia|      Nayer|  JNAYER|650.124.1214|16-JUL-05|ST_CLERK|  3200|            - |       120|           50|\n",
            "|        126|     Irene|Mikkilineni|IMIKKILI|650.124.1224|28-SEP-06|ST_CLERK|  2700|            - |       120|           50|\n",
            "|        127|     James|     Landry| JLANDRY|650.124.1334|14-JAN-07|ST_CLERK|  2400|            - |       120|           50|\n",
            "|        128|    Steven|     Markle| SMARKLE|650.124.1434|08-MAR-08|ST_CLERK|  2200|            - |       120|           50|\n",
            "|        129|     Laura|     Bissot| LBISSOT|650.124.5234|20-AUG-05|ST_CLERK|  3300|            - |       121|           50|\n",
            "|        130|     Mozhe|   Atkinson|MATKINSO|650.124.6234|30-OCT-05|ST_CLERK|  2800|            - |       121|           50|\n",
            "|        131|     James|     Marlow| JAMRLOW|650.124.7234|16-FEB-05|ST_CLERK|  2500|            - |       121|           50|\n",
            "|        132|        TJ|      Olson| TJOLSON|650.124.8234|10-APR-07|ST_CLERK|  2100|            - |       121|           50|\n",
            "|        133|     Jason|     Mallin| JMALLIN|650.127.1934|14-JUN-04|ST_CLERK|  3300|            - |       122|           50|\n",
            "|        134|   Michael|     Rogers| MROGERS|650.127.1834|26-AUG-06|ST_CLERK|  2900|            - |       122|           50|\n",
            "|        135|        Ki|        Gee|    KGEE|650.127.1734|12-DEC-07|ST_CLERK|  2400|            - |       122|           50|\n",
            "|        136|     Hazel| Philtanker|HPHILTAN|650.127.1634|06-FEB-08|ST_CLERK|  2200|            - |       122|           50|\n",
            "|        137|    Renske|     Ladwig| RLADWIG|650.121.1234|14-JUL-03|ST_CLERK|  3600|            - |       123|           50|\n",
            "|        138|   Stephen|     Stiles| SSTILES|650.121.2034|26-OCT-05|ST_CLERK|  3200|            - |       123|           50|\n",
            "|        139|      John|        Seo|    JSEO|650.121.2019|12-FEB-06|ST_CLERK|  2700|            - |       123|           50|\n",
            "|        140|    Joshua|      Patel|  JPATEL|650.121.1834|06-APR-06|ST_CLERK|  2500|            - |       123|           50|\n",
            "+-----------+----------+-----------+--------+------------+---------+--------+------+--------------+----------+-------------+\n",
            "\n"
          ]
        }
      ]
    },
    {
      "cell_type": "code",
      "source": [
        "df.filter((col(\"DEPARTMENT_ID\") == 50) & (col(\"SALARY\") < 5000)).select(\"EMPLOYEE_ID\",\"FIRST_NAME\",\"SALARY\",\"DEPARTMENT_ID\").show(100)"
      ],
      "metadata": {
        "colab": {
          "base_uri": "https://localhost:8080/"
        },
        "id": "ufxWvreFlMUm",
        "outputId": "d0d43579-9aab-4495-c34b-390af00bd5e7"
      },
      "execution_count": 44,
      "outputs": [
        {
          "output_type": "stream",
          "name": "stdout",
          "text": [
            "+-----------+----------+------+-------------+\n",
            "|EMPLOYEE_ID|FIRST_NAME|SALARY|DEPARTMENT_ID|\n",
            "+-----------+----------+------+-------------+\n",
            "|        198|    Donald|  2600|           50|\n",
            "|        199|   Douglas|  2600|           50|\n",
            "|        125|     Julia|  3200|           50|\n",
            "|        126|     Irene|  2700|           50|\n",
            "|        127|     James|  2400|           50|\n",
            "|        128|    Steven|  2200|           50|\n",
            "|        129|     Laura|  3300|           50|\n",
            "|        130|     Mozhe|  2800|           50|\n",
            "|        131|     James|  2500|           50|\n",
            "|        132|        TJ|  2100|           50|\n",
            "|        133|     Jason|  3300|           50|\n",
            "|        134|   Michael|  2900|           50|\n",
            "|        135|        Ki|  2400|           50|\n",
            "|        136|     Hazel|  2200|           50|\n",
            "|        137|    Renske|  3600|           50|\n",
            "|        138|   Stephen|  3200|           50|\n",
            "|        139|      John|  2700|           50|\n",
            "|        140|    Joshua|  2500|           50|\n",
            "+-----------+----------+------+-------------+\n",
            "\n"
          ]
        }
      ]
    },
    {
      "cell_type": "code",
      "source": [
        "df.distinct().show()"
      ],
      "metadata": {
        "colab": {
          "base_uri": "https://localhost:8080/"
        },
        "id": "gMUMWqSelV91",
        "outputId": "2a127596-9912-4dfd-fcd0-760cb4142178"
      },
      "execution_count": 45,
      "outputs": [
        {
          "output_type": "stream",
          "name": "stdout",
          "text": [
            "+-----------+----------+---------+--------+------------+---------+----------+------+--------------+----------+-------------+\n",
            "|EMPLOYEE_ID|FIRST_NAME|LAST_NAME|   EMAIL|PHONE_NUMBER|HIRE_DATE|    JOB_ID|SALARY|COMMISSION_PCT|MANAGER_ID|DEPARTMENT_ID|\n",
            "+-----------+----------+---------+--------+------------+---------+----------+------+--------------+----------+-------------+\n",
            "|        120|   Matthew|    Weiss|  MWEISS|650.123.1234|18-JUL-04|    ST_MAN|  8000|            - |       100|           50|\n",
            "|        118|       Guy|   Himuro| GHIMURO|515.127.4565|15-NOV-06|  PU_CLERK|  2600|            - |       114|           30|\n",
            "|        110|      John|     Chen|   JCHEN|515.124.4269|28-SEP-05|FI_ACCOUNT|  8200|            - |       108|          100|\n",
            "|        123|    Shanta|  Vollman|SVOLLMAN|650.123.4234|10-OCT-05|    ST_MAN|  6500|            - |       100|           50|\n",
            "|        124|     Kevin|  Mourgos|KMOURGOS|650.123.5234|16-NOV-07|    ST_MAN|  5800|            - |       100|           50|\n",
            "|        137|    Renske|   Ladwig| RLADWIG|650.121.1234|14-JUL-03|  ST_CLERK|  3600|            - |       123|           50|\n",
            "|        132|        TJ|    Olson| TJOLSON|650.124.8234|10-APR-07|  ST_CLERK|  2100|            - |       121|           50|\n",
            "|        113|      Luis|     Popp|   LPOPP|515.124.4567|07-DEC-07|FI_ACCOUNT|  6900|            - |       108|          100|\n",
            "|        139|      John|      Seo|    JSEO|650.121.2019|12-FEB-06|  ST_CLERK|  2700|            - |       123|           50|\n",
            "|        201|   Michael|Hartstein|MHARTSTE|515.123.5555|17-FEB-04|    MK_MAN| 13000|            - |       100|           20|\n",
            "|        107|     Diana|  Lorentz|DLORENTZ|590.423.5567|07-FEB-07|   IT_PROG|  4200|            - |       103|           60|\n",
            "|        135|        Ki|      Gee|    KGEE|650.127.1734|12-DEC-07|  ST_CLERK|  2400|            - |       122|           50|\n",
            "|        104|     Bruce|    Ernst|  BERNST|590.423.4568|21-MAY-07|   IT_PROG|  6000|            - |       103|           60|\n",
            "|        103| Alexander|   Hunold| AHUNOLD|590.423.4567|03-JAN-06|   IT_PROG|  9000|            - |       102|           60|\n",
            "|        108|     Nancy|Greenberg|NGREENBE|515.124.4569|17-AUG-02|    FI_MGR| 12008|            - |       101|          100|\n",
            "|        121|      Adam|    Fripp|  AFRIPP|650.123.2234|10-APR-05|    ST_MAN|  8200|            - |       100|           50|\n",
            "|        100|    Steven|     King|   SKING|515.123.4567|17-JUN-03|   AD_PRES| 24000|            - |        - |           90|\n",
            "|        117|     Sigal|   Tobias| STOBIAS|515.127.4564|24-JUL-05|  PU_CLERK|  2800|            - |       114|           30|\n",
            "|        130|     Mozhe| Atkinson|MATKINSO|650.124.6234|30-OCT-05|  ST_CLERK|  2800|            - |       121|           50|\n",
            "|        134|   Michael|   Rogers| MROGERS|650.127.1834|26-AUG-06|  ST_CLERK|  2900|            - |       122|           50|\n",
            "+-----------+----------+---------+--------+------------+---------+----------+------+--------------+----------+-------------+\n",
            "only showing top 20 rows\n",
            "\n"
          ]
        }
      ]
    },
    {
      "cell_type": "code",
      "source": [
        "df.dropDuplicates().show()"
      ],
      "metadata": {
        "colab": {
          "base_uri": "https://localhost:8080/"
        },
        "id": "t3ikZsuRoupn",
        "outputId": "0147098f-3d90-48eb-8dec-fe0e67011c01"
      },
      "execution_count": 46,
      "outputs": [
        {
          "output_type": "stream",
          "name": "stdout",
          "text": [
            "+-----------+----------+---------+--------+------------+---------+----------+------+--------------+----------+-------------+\n",
            "|EMPLOYEE_ID|FIRST_NAME|LAST_NAME|   EMAIL|PHONE_NUMBER|HIRE_DATE|    JOB_ID|SALARY|COMMISSION_PCT|MANAGER_ID|DEPARTMENT_ID|\n",
            "+-----------+----------+---------+--------+------------+---------+----------+------+--------------+----------+-------------+\n",
            "|        120|   Matthew|    Weiss|  MWEISS|650.123.1234|18-JUL-04|    ST_MAN|  8000|            - |       100|           50|\n",
            "|        118|       Guy|   Himuro| GHIMURO|515.127.4565|15-NOV-06|  PU_CLERK|  2600|            - |       114|           30|\n",
            "|        110|      John|     Chen|   JCHEN|515.124.4269|28-SEP-05|FI_ACCOUNT|  8200|            - |       108|          100|\n",
            "|        123|    Shanta|  Vollman|SVOLLMAN|650.123.4234|10-OCT-05|    ST_MAN|  6500|            - |       100|           50|\n",
            "|        124|     Kevin|  Mourgos|KMOURGOS|650.123.5234|16-NOV-07|    ST_MAN|  5800|            - |       100|           50|\n",
            "|        137|    Renske|   Ladwig| RLADWIG|650.121.1234|14-JUL-03|  ST_CLERK|  3600|            - |       123|           50|\n",
            "|        132|        TJ|    Olson| TJOLSON|650.124.8234|10-APR-07|  ST_CLERK|  2100|            - |       121|           50|\n",
            "|        113|      Luis|     Popp|   LPOPP|515.124.4567|07-DEC-07|FI_ACCOUNT|  6900|            - |       108|          100|\n",
            "|        139|      John|      Seo|    JSEO|650.121.2019|12-FEB-06|  ST_CLERK|  2700|            - |       123|           50|\n",
            "|        201|   Michael|Hartstein|MHARTSTE|515.123.5555|17-FEB-04|    MK_MAN| 13000|            - |       100|           20|\n",
            "|        107|     Diana|  Lorentz|DLORENTZ|590.423.5567|07-FEB-07|   IT_PROG|  4200|            - |       103|           60|\n",
            "|        135|        Ki|      Gee|    KGEE|650.127.1734|12-DEC-07|  ST_CLERK|  2400|            - |       122|           50|\n",
            "|        104|     Bruce|    Ernst|  BERNST|590.423.4568|21-MAY-07|   IT_PROG|  6000|            - |       103|           60|\n",
            "|        103| Alexander|   Hunold| AHUNOLD|590.423.4567|03-JAN-06|   IT_PROG|  9000|            - |       102|           60|\n",
            "|        108|     Nancy|Greenberg|NGREENBE|515.124.4569|17-AUG-02|    FI_MGR| 12008|            - |       101|          100|\n",
            "|        121|      Adam|    Fripp|  AFRIPP|650.123.2234|10-APR-05|    ST_MAN|  8200|            - |       100|           50|\n",
            "|        100|    Steven|     King|   SKING|515.123.4567|17-JUN-03|   AD_PRES| 24000|            - |        - |           90|\n",
            "|        117|     Sigal|   Tobias| STOBIAS|515.127.4564|24-JUL-05|  PU_CLERK|  2800|            - |       114|           30|\n",
            "|        130|     Mozhe| Atkinson|MATKINSO|650.124.6234|30-OCT-05|  ST_CLERK|  2800|            - |       121|           50|\n",
            "|        134|   Michael|   Rogers| MROGERS|650.127.1834|26-AUG-06|  ST_CLERK|  2900|            - |       122|           50|\n",
            "+-----------+----------+---------+--------+------------+---------+----------+------+--------------+----------+-------------+\n",
            "only showing top 20 rows\n",
            "\n"
          ]
        }
      ]
    },
    {
      "cell_type": "code",
      "source": [
        "from pyspark.sql.functions import *\n",
        "df.count()"
      ],
      "metadata": {
        "colab": {
          "base_uri": "https://localhost:8080/"
        },
        "id": "rFp81UmtpJgH",
        "outputId": "3ca0fcd6-0f7b-4275-c4c6-c7422227a55b"
      },
      "execution_count": 47,
      "outputs": [
        {
          "output_type": "execute_result",
          "data": {
            "text/plain": [
              "50"
            ]
          },
          "metadata": {},
          "execution_count": 47
        }
      ]
    },
    {
      "cell_type": "code",
      "source": [
        "df.select(max('SALARY').alias('MAX_SAL')).show()"
      ],
      "metadata": {
        "colab": {
          "base_uri": "https://localhost:8080/"
        },
        "id": "6sz7LlrJpjj0",
        "outputId": "3a852d25-ffa8-40ef-ff60-a98862438b6e"
      },
      "execution_count": 48,
      "outputs": [
        {
          "output_type": "stream",
          "name": "stdout",
          "text": [
            "+-------+\n",
            "|MAX_SAL|\n",
            "+-------+\n",
            "|  24000|\n",
            "+-------+\n",
            "\n"
          ]
        }
      ]
    },
    {
      "cell_type": "code",
      "source": [
        "df.select(min('SALARY').alias('MIN_SAL')).show()"
      ],
      "metadata": {
        "colab": {
          "base_uri": "https://localhost:8080/"
        },
        "id": "8gEkRAnLpwVU",
        "outputId": "3d896967-ee64-43a0-b450-fd271f14868d"
      },
      "execution_count": 49,
      "outputs": [
        {
          "output_type": "stream",
          "name": "stdout",
          "text": [
            "+-------+\n",
            "|MIN_SAL|\n",
            "+-------+\n",
            "|   2100|\n",
            "+-------+\n",
            "\n"
          ]
        }
      ]
    },
    {
      "cell_type": "code",
      "source": [
        "df.select(avg('SALARY').alias('AVG_SAL')).show()"
      ],
      "metadata": {
        "colab": {
          "base_uri": "https://localhost:8080/"
        },
        "id": "MRQ2rgPDp-Y4",
        "outputId": "3031ea0a-2ace-41cc-e496-29ad048e6b04"
      },
      "execution_count": 50,
      "outputs": [
        {
          "output_type": "stream",
          "name": "stdout",
          "text": [
            "+-------+\n",
            "|AVG_SAL|\n",
            "+-------+\n",
            "|6182.32|\n",
            "+-------+\n",
            "\n"
          ]
        }
      ]
    },
    {
      "cell_type": "code",
      "source": [
        "df.select('EMPLOYEE_ID', 'FIRST_NAME', 'DEPARTMENT_ID', 'SALARY').orderBy('SALARY').show()"
      ],
      "metadata": {
        "colab": {
          "base_uri": "https://localhost:8080/"
        },
        "id": "XQd1y4jbqOru",
        "outputId": "5fab22e0-c9cc-40e2-9634-5503202935a3"
      },
      "execution_count": 51,
      "outputs": [
        {
          "output_type": "stream",
          "name": "stdout",
          "text": [
            "+-----------+----------+-------------+------+\n",
            "|EMPLOYEE_ID|FIRST_NAME|DEPARTMENT_ID|SALARY|\n",
            "+-----------+----------+-------------+------+\n",
            "|        132|        TJ|           50|  2100|\n",
            "|        136|     Hazel|           50|  2200|\n",
            "|        128|    Steven|           50|  2200|\n",
            "|        127|     James|           50|  2400|\n",
            "|        135|        Ki|           50|  2400|\n",
            "|        131|     James|           50|  2500|\n",
            "|        119|     Karen|           30|  2500|\n",
            "|        140|    Joshua|           50|  2500|\n",
            "|        198|    Donald|           50|  2600|\n",
            "|        199|   Douglas|           50|  2600|\n",
            "|        118|       Guy|           30|  2600|\n",
            "|        126|     Irene|           50|  2700|\n",
            "|        139|      John|           50|  2700|\n",
            "|        130|     Mozhe|           50|  2800|\n",
            "|        117|     Sigal|           30|  2800|\n",
            "|        116|    Shelli|           30|  2900|\n",
            "|        134|   Michael|           50|  2900|\n",
            "|        115| Alexander|           30|  3100|\n",
            "|        125|     Julia|           50|  3200|\n",
            "|        138|   Stephen|           50|  3200|\n",
            "+-----------+----------+-------------+------+\n",
            "only showing top 20 rows\n",
            "\n"
          ]
        }
      ]
    },
    {
      "cell_type": "code",
      "source": [
        "df.groupBy('DEPARTMENT_ID').sum('SALARY').show()"
      ],
      "metadata": {
        "colab": {
          "base_uri": "https://localhost:8080/"
        },
        "id": "GT_4C7cyqnfc",
        "outputId": "631384a0-09c4-49c4-a493-80cecc521d45"
      },
      "execution_count": 53,
      "outputs": [
        {
          "output_type": "stream",
          "name": "stdout",
          "text": [
            "+-------------+-----------+\n",
            "|DEPARTMENT_ID|sum(SALARY)|\n",
            "+-------------+-----------+\n",
            "|           20|      19000|\n",
            "|           40|       6500|\n",
            "|          100|      51608|\n",
            "|           10|       4400|\n",
            "|           50|      85600|\n",
            "|           70|      10000|\n",
            "|           90|      58000|\n",
            "|           60|      28800|\n",
            "|          110|      20308|\n",
            "|           30|      24900|\n",
            "+-------------+-----------+\n",
            "\n"
          ]
        }
      ]
    },
    {
      "cell_type": "code",
      "source": [
        "df.groupBy(\"DEPARTMENT_ID\", \"JOB_ID\").sum('SALARY').show()"
      ],
      "metadata": {
        "colab": {
          "base_uri": "https://localhost:8080/"
        },
        "id": "FUHHjftcrxFR",
        "outputId": "782a8597-98d7-4f90-e6a8-ad0cc52f8fe8"
      },
      "execution_count": 54,
      "outputs": [
        {
          "output_type": "stream",
          "name": "stdout",
          "text": [
            "+-------------+----------+-----------+\n",
            "|DEPARTMENT_ID|    JOB_ID|sum(SALARY)|\n",
            "+-------------+----------+-----------+\n",
            "|           90|   AD_PRES|      24000|\n",
            "|           30|    PU_MAN|      11000|\n",
            "|           70|    PR_REP|      10000|\n",
            "|           50|    ST_MAN|      36400|\n",
            "|           40|    HR_REP|       6500|\n",
            "|           60|   IT_PROG|      28800|\n",
            "|           10|   AD_ASST|       4400|\n",
            "|           30|  PU_CLERK|      13900|\n",
            "|           50|  ST_CLERK|      44000|\n",
            "|           20|    MK_REP|       6000|\n",
            "|           50|  SH_CLERK|       5200|\n",
            "|           90|     AD_VP|      34000|\n",
            "|          100|FI_ACCOUNT|      39600|\n",
            "|          110|    AC_MGR|      12008|\n",
            "|          110|AC_ACCOUNT|       8300|\n",
            "|           20|    MK_MAN|      13000|\n",
            "|          100|    FI_MGR|      12008|\n",
            "+-------------+----------+-----------+\n",
            "\n"
          ]
        }
      ]
    },
    {
      "cell_type": "code",
      "source": [
        "df.createOrReplaceTempView('employee')\n",
        "spark.sql('select * from employee limit 5').show()"
      ],
      "metadata": {
        "colab": {
          "base_uri": "https://localhost:8080/"
        },
        "id": "21paGS17zTd6",
        "outputId": "128e4eef-f248-4294-8022-70140f19de68"
      },
      "execution_count": 55,
      "outputs": [
        {
          "output_type": "stream",
          "name": "stdout",
          "text": [
            "+-----------+----------+---------+--------+------------+---------+--------+------+--------------+----------+-------------+\n",
            "|EMPLOYEE_ID|FIRST_NAME|LAST_NAME|   EMAIL|PHONE_NUMBER|HIRE_DATE|  JOB_ID|SALARY|COMMISSION_PCT|MANAGER_ID|DEPARTMENT_ID|\n",
            "+-----------+----------+---------+--------+------------+---------+--------+------+--------------+----------+-------------+\n",
            "|        198|    Donald| OConnell|DOCONNEL|650.507.9833|21-JUN-07|SH_CLERK|  2600|            - |       124|           50|\n",
            "|        199|   Douglas|    Grant|  DGRANT|650.507.9844|13-JAN-08|SH_CLERK|  2600|            - |       124|           50|\n",
            "|        200|  Jennifer|   Whalen| JWHALEN|515.123.4444|17-SEP-03| AD_ASST|  4400|            - |       101|           10|\n",
            "|        201|   Michael|Hartstein|MHARTSTE|515.123.5555|17-FEB-04|  MK_MAN| 13000|            - |       100|           20|\n",
            "|        202|       Pat|      Fay|    PFAY|603.123.6666|17-AUG-05|  MK_REP|  6000|            - |       201|           20|\n",
            "+-----------+----------+---------+--------+------------+---------+--------+------+--------------+----------+-------------+\n",
            "\n"
          ]
        }
      ]
    },
    {
      "cell_type": "code",
      "source": [
        "spark.sql('select employee_id, salary from employee').show()"
      ],
      "metadata": {
        "colab": {
          "base_uri": "https://localhost:8080/"
        },
        "id": "hygd5-ps1YN3",
        "outputId": "359ed74a-dc38-4f95-f516-df4c08b1b2fd"
      },
      "execution_count": 57,
      "outputs": [
        {
          "output_type": "stream",
          "name": "stdout",
          "text": [
            "+-----------+------+\n",
            "|employee_id|salary|\n",
            "+-----------+------+\n",
            "|        198|  2600|\n",
            "|        199|  2600|\n",
            "|        200|  4400|\n",
            "|        201| 13000|\n",
            "|        202|  6000|\n",
            "|        203|  6500|\n",
            "|        204| 10000|\n",
            "|        205| 12008|\n",
            "|        206|  8300|\n",
            "|        100| 24000|\n",
            "|        101| 17000|\n",
            "|        102| 17000|\n",
            "|        103|  9000|\n",
            "|        104|  6000|\n",
            "|        105|  4800|\n",
            "|        106|  4800|\n",
            "|        107|  4200|\n",
            "|        108| 12008|\n",
            "|        109|  9000|\n",
            "|        110|  8200|\n",
            "+-----------+------+\n",
            "only showing top 20 rows\n",
            "\n"
          ]
        }
      ]
    },
    {
      "cell_type": "code",
      "source": [
        "spark.sql('select department_id, sum(salary) as sum_salary from employee group by department_id').show()"
      ],
      "metadata": {
        "colab": {
          "base_uri": "https://localhost:8080/"
        },
        "id": "3h-Qi9ai1xNu",
        "outputId": "26be2fee-045a-4ab7-b385-c308c5a227e8"
      },
      "execution_count": 58,
      "outputs": [
        {
          "output_type": "stream",
          "name": "stdout",
          "text": [
            "+-------------+----------+\n",
            "|department_id|sum_salary|\n",
            "+-------------+----------+\n",
            "|           20|     19000|\n",
            "|           40|      6500|\n",
            "|          100|     51608|\n",
            "|           10|      4400|\n",
            "|           50|     85600|\n",
            "|           70|     10000|\n",
            "|           90|     58000|\n",
            "|           60|     28800|\n",
            "|          110|     20308|\n",
            "|           30|     24900|\n",
            "+-------------+----------+\n",
            "\n"
          ]
        }
      ]
    },
    {
      "cell_type": "code",
      "source": [
        "spark.sql('select employee_id, department_id, rank() over (partition by department_id order by salary desc) as rank_salary from employee').show()"
      ],
      "metadata": {
        "colab": {
          "base_uri": "https://localhost:8080/"
        },
        "id": "n48miXmd2T_N",
        "outputId": "030ca07e-eaa0-4a04-b8af-f271ea3e4ebf"
      },
      "execution_count": 59,
      "outputs": [
        {
          "output_type": "stream",
          "name": "stdout",
          "text": [
            "+-----------+-------------+-----------+\n",
            "|employee_id|department_id|rank_salary|\n",
            "+-----------+-------------+-----------+\n",
            "|        200|           10|          1|\n",
            "|        201|           20|          1|\n",
            "|        202|           20|          2|\n",
            "|        114|           30|          1|\n",
            "|        115|           30|          2|\n",
            "|        116|           30|          3|\n",
            "|        117|           30|          4|\n",
            "|        118|           30|          5|\n",
            "|        119|           30|          6|\n",
            "|        203|           40|          1|\n",
            "|        121|           50|          1|\n",
            "|        120|           50|          2|\n",
            "|        122|           50|          3|\n",
            "|        123|           50|          4|\n",
            "|        124|           50|          5|\n",
            "|        137|           50|          6|\n",
            "|        129|           50|          7|\n",
            "|        133|           50|          7|\n",
            "|        125|           50|          9|\n",
            "|        138|           50|          9|\n",
            "+-----------+-------------+-----------+\n",
            "only showing top 20 rows\n",
            "\n"
          ]
        }
      ]
    },
    {
      "cell_type": "code",
      "source": [],
      "metadata": {
        "id": "ls_mVNu029yB"
      },
      "execution_count": null,
      "outputs": []
    }
  ]
}